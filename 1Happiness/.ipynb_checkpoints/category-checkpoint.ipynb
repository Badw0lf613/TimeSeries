{
 "cells": [
  {
   "cell_type": "markdown",
   "metadata": {},
   "source": [
    "# 一、准备工作"
   ]
  },
  {
   "cell_type": "code",
   "execution_count": 1,
   "metadata": {},
   "outputs": [
    {
     "name": "stdout",
     "output_type": "stream",
     "text": [
      "3.8.3 (default, Jul  2 2020, 17:30:36) [MSC v.1916 64 bit (AMD64)]\n",
      "sys.version_info(major=3, minor=8, micro=3, releaselevel='final', serial=0)\n"
     ]
    }
   ],
   "source": [
    "import sys\n",
    "print(sys.version)\n",
    "print(sys.version_info)"
   ]
  },
  {
   "cell_type": "markdown",
   "metadata": {},
   "source": [
    "## 1.1安装工具包"
   ]
  },
  {
   "cell_type": "code",
   "execution_count": null,
   "metadata": {},
   "outputs": [],
   "source": [
    "# 安装lgb、xgb、ctb决策树、matplotlib\n",
    "!pip install -i https://pypi.tuna.tsinghua.edu.cn/simple lightgbm\n",
    "!pip install -i https://pypi.tuna.tsinghua.edu.cn/simple xgboost\n",
    "!pip install -i https://pypi.tuna.tsinghua.edu.cn/simple catboost\n",
    "!pip install -i https://pypi.tuna.tsinghua.edu.cn/simple matplotlib"
   ]
  },
  {
   "cell_type": "markdown",
   "metadata": {},
   "source": [
    "## 1.2导入库"
   ]
  },
  {
   "cell_type": "code",
   "execution_count": 2,
   "metadata": {},
   "outputs": [],
   "source": [
    "# pandas和numpy用于数据预处理；sklearn用于模型训练；xgb、lgb、ctb为决策树，用在模型主体；matplotlib用于绘图\n",
    "import pandas as pd\n",
    "import numpy as np\n",
    "from sklearn.metrics import mean_squared_error\n",
    "import lightgbm as lgb\n",
    "import xgboost as xgb\n",
    "from sklearn.model_selection import train_test_split\n",
    "from sklearn.preprocessing import OneHotEncoder\n",
    "from sklearn.model_selection import KFold, RepeatedKFold\n",
    "from scipy import sparse\n",
    "from catboost import Pool, CatBoostRegressor\n",
    "from sklearn.model_selection import train_test_split\n",
    "from matplotlib import pyplot as plt \n",
    "from sklearn.model_selection import train_test_split"
   ]
  },
  {
   "cell_type": "markdown",
   "metadata": {},
   "source": [
    "## 1.3导入数据"
   ]
  },
  {
   "cell_type": "code",
   "execution_count": 3,
   "metadata": {},
   "outputs": [],
   "source": [
    "# 导入数据\n",
    "data=pd.read_excel(\"./data/data_proc_3_fix0.xlsx\")"
   ]
  },
  {
   "cell_type": "markdown",
   "metadata": {},
   "source": [
    "# 二、数据预处理"
   ]
  },
  {
   "cell_type": "markdown",
   "metadata": {},
   "source": [
    "## 2.1观察数据"
   ]
  },
  {
   "cell_type": "code",
   "execution_count": 4,
   "metadata": {},
   "outputs": [
    {
     "name": "stdout",
     "output_type": "stream",
     "text": [
      "(227, 10)\n",
      "     pre       2W       4W       6W       8W      10W    12W  label  \\\n",
      "0  77.83  0.02612  0.02600  0.00001  0.00000  0.00000  0.003      0   \n",
      "1   5.37  0.12300  0.00388  0.16800  0.00514  0.00905  0.296      0   \n",
      "2  23.29  0.19200  0.00000  0.02700  0.00030  0.00066  0.060      0   \n",
      "3  20.00  0.00671  0.00002  0.06000  0.00002  0.00001  0.035      0   \n",
      "4   4.66  0.12200  0.01000  0.00102  0.01000  0.00087  0.010      0   \n",
      "\n",
      "   Unnamed: 8  Unnamed: 9  \n",
      "0         NaN         NaN  \n",
      "1         NaN         NaN  \n",
      "2         NaN         NaN  \n",
      "3         NaN         NaN  \n",
      "4         NaN         NaN  \n",
      "<class 'pandas.core.frame.DataFrame'>\n",
      "RangeIndex: 227 entries, 0 to 226\n",
      "Data columns (total 10 columns):\n",
      " #   Column      Non-Null Count  Dtype  \n",
      "---  ------      --------------  -----  \n",
      " 0   pre         227 non-null    float64\n",
      " 1   2W          227 non-null    float64\n",
      " 2   4W          227 non-null    float64\n",
      " 3   6W          227 non-null    float64\n",
      " 4   8W          227 non-null    float64\n",
      " 5   10W         227 non-null    float64\n",
      " 6   12W         227 non-null    float64\n",
      " 7   label       227 non-null    int64  \n",
      " 8   Unnamed: 8  0 non-null      float64\n",
      " 9   Unnamed: 9  1 non-null      float64\n",
      "dtypes: float64(9), int64(1)\n",
      "memory usage: 17.9 KB\n",
      "None\n",
      "Index(['pre', '2W', '4W', '6W', '8W', '10W', '12W', 'label', 'Unnamed: 8',\n",
      "       'Unnamed: 9'],\n",
      "      dtype='object')\n"
     ]
    }
   ],
   "source": [
    "#观察数据大小\n",
    "print(data.shape)\n",
    "#简单查看数据\n",
    "print(data.head())\n",
    "#查看数据是否缺失\n",
    "print(data.info(verbose=True,null_counts=True))\n",
    "print(data.columns)#查看train所有特征列"
   ]
  },
  {
   "cell_type": "markdown",
   "metadata": {},
   "source": [
    "## 2.2划分训练测试"
   ]
  },
  {
   "cell_type": "code",
   "execution_count": 5,
   "metadata": {},
   "outputs": [
    {
     "name": "stdout",
     "output_type": "stream",
     "text": [
      "        pre       2W       4W       6W       8W      10W    12W\n",
      "0    77.830  0.02612  0.02600  0.00001  0.00000  0.00000  0.003\n",
      "1     5.370  0.12300  0.00388  0.16800  0.00514  0.00905  0.296\n",
      "2    23.290  0.19200  0.00000  0.02700  0.00030  0.00066  0.060\n",
      "3    20.000  0.00671  0.00002  0.06000  0.00002  0.00001  0.035\n",
      "4     4.660  0.12200  0.01000  0.00102  0.01000  0.00087  0.010\n",
      "..      ...      ...      ...      ...      ...      ...    ...\n",
      "222   8.160  0.38400  0.03000  0.00600  0.00000  0.00000  0.000\n",
      "223  21.000  0.64000  0.06000  0.11000  0.00932  0.00002  0.000\n",
      "224  15.300  0.00542  0.05000  0.00100  0.00000  0.00000  0.003\n",
      "225  23.000  0.75000  0.11000  0.03000  0.00000  0.00000  0.000\n",
      "226  14.205  0.00477  0.00001  0.01500  0.00001  0.01200  0.000\n",
      "\n",
      "[227 rows x 7 columns]\n",
      "---\n",
      "     label\n",
      "0        0\n",
      "1        0\n",
      "2        0\n",
      "3        0\n",
      "4        0\n",
      "..     ...\n",
      "222      1\n",
      "223      1\n",
      "224      1\n",
      "225      1\n",
      "226      1\n",
      "\n",
      "[227 rows x 1 columns]\n"
     ]
    }
   ],
   "source": [
    "X = data.loc[:,['pre','2W','4W','6W','8W','10W','12W']]\n",
    "Y = data.loc[:,['label']]\n",
    "print(X)\n",
    "print('---')\n",
    "print(Y)\n",
    "seed = 7\n",
    "test_size = 0.33\n",
    "X_train_, X_test_, y_train_, y_test_ = train_test_split(X, Y, test_size=test_size, random_state=seed)"
   ]
  },
  {
   "cell_type": "markdown",
   "metadata": {},
   "source": [
    "# 三、模型训练"
   ]
  },
  {
   "cell_type": "markdown",
   "metadata": {},
   "source": [
    "## 4.1划分数据集"
   ]
  },
  {
   "cell_type": "code",
   "execution_count": 6,
   "metadata": {},
   "outputs": [
    {
     "name": "stdout",
     "output_type": "stream",
     "text": [
      "        pre       2W       4W       6W       8W  10W  12W\n",
      "51   10.759  0.00361  0.00026  0.77700  0.00026  0.0  0.0\n",
      "199  85.920  0.53800  0.04900  0.00800  0.00014  0.0  0.0\n",
      "154   4.799  0.19000  0.00800  0.00177  0.00000  0.0  0.0\n",
      "95   52.920  2.65000  1.65000  0.28237  0.00060  0.0  0.0\n",
      "203  77.705  1.47400  0.10700  0.00700  0.00000  0.0  0.0\n",
      "        pre        2W     4W     6W       8W      10W      12W\n",
      "98  204.000  10.26300  0.000  1.880  0.00000  2.38000  0.00000\n",
      "46    5.680   3.17215  0.600  0.373  0.86807  0.66117  0.24034\n",
      "99  213.146   8.61800  1.283  0.642  0.00000  0.00000  0.00000\n",
      "22    8.439   0.30800  0.000  0.025  0.00122  0.00127  0.02600\n",
      "78   18.644   2.78500  3.591  4.155  1.01757  0.05198  0.00042\n",
      "     label\n",
      "51       0\n",
      "199      1\n",
      "154      1\n",
      "95       0\n",
      "203      1\n",
      "    label\n",
      "98      0\n",
      "46      0\n",
      "99      0\n",
      "22      0\n",
      "78      0\n"
     ]
    }
   ],
   "source": [
    "print(X_train_.head())\n",
    "print(X_test_.head())\n",
    "print(y_train_.head())\n",
    "print(y_test_.head())"
   ]
  },
  {
   "cell_type": "markdown",
   "metadata": {},
   "source": [
    "## 4.2转numpy数组"
   ]
  },
  {
   "cell_type": "code",
   "execution_count": 7,
   "metadata": {},
   "outputs": [],
   "source": [
    "X_train = np.array(X_train_)\n",
    "X_test = np.array(X_test_)\n",
    "y_train = np.array(y_train_)\n",
    "y_test  = np.array(y_test_)"
   ]
  },
  {
   "cell_type": "code",
   "execution_count": 8,
   "metadata": {},
   "outputs": [
    {
     "name": "stdout",
     "output_type": "stream",
     "text": [
      "(152, 7)\n",
      "(152, 1)\n",
      "(75, 7)\n"
     ]
    }
   ],
   "source": [
    "print(X_train.shape)\n",
    "print(y_train.shape)\n",
    "print(X_test.shape)"
   ]
  },
  {
   "cell_type": "markdown",
   "metadata": {},
   "source": [
    "## 4.3自定义评价函数"
   ]
  },
  {
   "cell_type": "code",
   "execution_count": 9,
   "metadata": {},
   "outputs": [],
   "source": [
    "#自定义评价函数\n",
    "def myFeval(preds, xgbtrain):\n",
    "    label = xgbtrain.get_label()\n",
    "    score = mean_squared_error(label,preds)\n",
    "    return 'myFeval',score"
   ]
  },
  {
   "cell_type": "markdown",
   "metadata": {},
   "source": [
    "## 4.4xgb"
   ]
  },
  {
   "cell_type": "code",
   "execution_count": 10,
   "metadata": {},
   "outputs": [
    {
     "name": "stdout",
     "output_type": "stream",
     "text": [
      "fold n°1\n",
      "[17:21:41] WARNING: C:/Users/Administrator/workspace/xgboost-win64_release_1.2.0/src/objective/regression_obj.cu:174: reg:linear is now deprecated in favor of reg:squarederror.\n",
      "[17:21:41] WARNING: C:\\Users\\Administrator\\workspace\\xgboost-win64_release_1.2.0\\src\\learner.cc:516: \n",
      "Parameters: { silent } might not be used.\n",
      "\n",
      "  This may not be accurate due to some parameters are only used in language bindings but\n",
      "  passed down to XGBoost core.  Or some parameters are not used but slip through this\n",
      "  verification. Please open an issue if you find above cases.\n",
      "\n",
      "\n",
      "[0]\ttrain-rmse:0.49790\tvalid_data-rmse:0.49833\ttrain-myFeval:0.24791\tvalid_data-myFeval:0.24833\n",
      "Multiple eval metrics have been passed: 'valid_data-myFeval' will be used for early stopping.\n",
      "\n",
      "Will train until valid_data-myFeval hasn't improved in 200 rounds.\n",
      "[100]\ttrain-rmse:0.34749\tvalid_data-rmse:0.38154\ttrain-myFeval:0.12075\tvalid_data-myFeval:0.14557\n",
      "[200]\ttrain-rmse:0.25386\tvalid_data-rmse:0.32629\ttrain-myFeval:0.06444\tvalid_data-myFeval:0.10646\n",
      "[300]\ttrain-rmse:0.19547\tvalid_data-rmse:0.29802\ttrain-myFeval:0.03821\tvalid_data-myFeval:0.08881\n",
      "[400]\ttrain-rmse:0.15729\tvalid_data-rmse:0.28751\ttrain-myFeval:0.02474\tvalid_data-myFeval:0.08266\n",
      "[500]\ttrain-rmse:0.13072\tvalid_data-rmse:0.28356\ttrain-myFeval:0.01709\tvalid_data-myFeval:0.08041\n",
      "[600]\ttrain-rmse:0.11176\tvalid_data-rmse:0.28196\ttrain-myFeval:0.01249\tvalid_data-myFeval:0.07950\n",
      "[700]\ttrain-rmse:0.09553\tvalid_data-rmse:0.27903\ttrain-myFeval:0.00913\tvalid_data-myFeval:0.07786\n",
      "[800]\ttrain-rmse:0.08189\tvalid_data-rmse:0.27974\ttrain-myFeval:0.00671\tvalid_data-myFeval:0.07825\n",
      "Stopping. Best iteration:\n",
      "[688]\ttrain-rmse:0.09749\tvalid_data-rmse:0.27859\ttrain-myFeval:0.00950\tvalid_data-myFeval:0.07761\n",
      "\n",
      "[17:21:43] WARNING: C:/Users/Administrator/workspace/xgboost-win64_release_1.2.0/src/objective/regression_obj.cu:174: reg:linear is now deprecated in favor of reg:squarederror.\n",
      "fold n°2\n",
      "[17:21:43] WARNING: C:/Users/Administrator/workspace/xgboost-win64_release_1.2.0/src/objective/regression_obj.cu:174: reg:linear is now deprecated in favor of reg:squarederror.\n",
      "[17:21:43] WARNING: C:\\Users\\Administrator\\workspace\\xgboost-win64_release_1.2.0\\src\\learner.cc:516: \n",
      "Parameters: { silent } might not be used.\n",
      "\n",
      "  This may not be accurate due to some parameters are only used in language bindings but\n",
      "  passed down to XGBoost core.  Or some parameters are not used but slip through this\n",
      "  verification. Please open an issue if you find above cases.\n",
      "\n",
      "\n",
      "[0]\ttrain-rmse:0.49795\tvalid_data-rmse:0.49818\ttrain-myFeval:0.24795\tvalid_data-myFeval:0.24819\n",
      "Multiple eval metrics have been passed: 'valid_data-myFeval' will be used for early stopping.\n",
      "\n",
      "Will train until valid_data-myFeval hasn't improved in 200 rounds.\n",
      "[100]\ttrain-rmse:0.33806\tvalid_data-rmse:0.40295\ttrain-myFeval:0.11428\tvalid_data-myFeval:0.16237\n",
      "[200]\ttrain-rmse:0.23746\tvalid_data-rmse:0.36086\ttrain-myFeval:0.05639\tvalid_data-myFeval:0.13022\n",
      "[300]\ttrain-rmse:0.17511\tvalid_data-rmse:0.34332\ttrain-myFeval:0.03067\tvalid_data-myFeval:0.11787\n",
      "[400]\ttrain-rmse:0.13606\tvalid_data-rmse:0.33991\ttrain-myFeval:0.01851\tvalid_data-myFeval:0.11553\n",
      "[500]\ttrain-rmse:0.10951\tvalid_data-rmse:0.34035\ttrain-myFeval:0.01199\tvalid_data-myFeval:0.11584\n",
      "[600]\ttrain-rmse:0.09126\tvalid_data-rmse:0.34125\ttrain-myFeval:0.00833\tvalid_data-myFeval:0.11645\n",
      "Stopping. Best iteration:\n",
      "[421]\ttrain-rmse:0.12976\tvalid_data-rmse:0.33970\ttrain-myFeval:0.01684\tvalid_data-myFeval:0.11539\n",
      "\n",
      "[17:21:44] WARNING: C:/Users/Administrator/workspace/xgboost-win64_release_1.2.0/src/objective/regression_obj.cu:174: reg:linear is now deprecated in favor of reg:squarederror.\n",
      "fold n°3\n",
      "[17:21:44] WARNING: C:/Users/Administrator/workspace/xgboost-win64_release_1.2.0/src/objective/regression_obj.cu:174: reg:linear is now deprecated in favor of reg:squarederror.\n",
      "[17:21:44] WARNING: C:\\Users\\Administrator\\workspace\\xgboost-win64_release_1.2.0\\src\\learner.cc:516: \n",
      "Parameters: { silent } might not be used.\n",
      "\n",
      "  This may not be accurate due to some parameters are only used in language bindings but\n",
      "  passed down to XGBoost core.  Or some parameters are not used but slip through this\n",
      "  verification. Please open an issue if you find above cases.\n",
      "\n",
      "\n",
      "[0]\ttrain-rmse:0.49805\tvalid_data-rmse:0.49801\ttrain-myFeval:0.24806\tvalid_data-myFeval:0.24801\n",
      "Multiple eval metrics have been passed: 'valid_data-myFeval' will be used for early stopping.\n",
      "\n",
      "Will train until valid_data-myFeval hasn't improved in 200 rounds.\n",
      "[100]\ttrain-rmse:0.34504\tvalid_data-rmse:0.38278\ttrain-myFeval:0.11905\tvalid_data-myFeval:0.14652\n",
      "[200]\ttrain-rmse:0.24948\tvalid_data-rmse:0.31773\ttrain-myFeval:0.06224\tvalid_data-myFeval:0.10095\n",
      "[300]\ttrain-rmse:0.19092\tvalid_data-rmse:0.28783\ttrain-myFeval:0.03645\tvalid_data-myFeval:0.08284\n",
      "[400]\ttrain-rmse:0.15277\tvalid_data-rmse:0.27561\ttrain-myFeval:0.02334\tvalid_data-myFeval:0.07596\n",
      "[500]\ttrain-rmse:0.12617\tvalid_data-rmse:0.27097\ttrain-myFeval:0.01592\tvalid_data-myFeval:0.07342\n",
      "[600]\ttrain-rmse:0.10626\tvalid_data-rmse:0.26881\ttrain-myFeval:0.01129\tvalid_data-myFeval:0.07226\n",
      "[700]\ttrain-rmse:0.08998\tvalid_data-rmse:0.26823\ttrain-myFeval:0.00810\tvalid_data-myFeval:0.07195\n",
      "[800]\ttrain-rmse:0.07650\tvalid_data-rmse:0.26875\ttrain-myFeval:0.00585\tvalid_data-myFeval:0.07222\n",
      "Stopping. Best iteration:\n",
      "[672]\ttrain-rmse:0.09423\tvalid_data-rmse:0.26814\ttrain-myFeval:0.00888\tvalid_data-myFeval:0.07190\n",
      "\n",
      "[17:21:45] WARNING: C:/Users/Administrator/workspace/xgboost-win64_release_1.2.0/src/objective/regression_obj.cu:174: reg:linear is now deprecated in favor of reg:squarederror.\n",
      "fold n°4\n",
      "[17:21:45] WARNING: C:/Users/Administrator/workspace/xgboost-win64_release_1.2.0/src/objective/regression_obj.cu:174: reg:linear is now deprecated in favor of reg:squarederror.\n",
      "[17:21:45] WARNING: C:\\Users\\Administrator\\workspace\\xgboost-win64_release_1.2.0\\src\\learner.cc:516: \n",
      "Parameters: { silent } might not be used.\n",
      "\n",
      "  This may not be accurate due to some parameters are only used in language bindings but\n",
      "  passed down to XGBoost core.  Or some parameters are not used but slip through this\n",
      "  verification. Please open an issue if you find above cases.\n",
      "\n",
      "\n",
      "[0]\ttrain-rmse:0.49812\tvalid_data-rmse:0.49830\ttrain-myFeval:0.24813\tvalid_data-myFeval:0.24830\n",
      "Multiple eval metrics have been passed: 'valid_data-myFeval' will be used for early stopping.\n",
      "\n",
      "Will train until valid_data-myFeval hasn't improved in 200 rounds.\n",
      "[100]\ttrain-rmse:0.34833\tvalid_data-rmse:0.38260\ttrain-myFeval:0.12133\tvalid_data-myFeval:0.14639\n",
      "[200]\ttrain-rmse:0.25594\tvalid_data-rmse:0.32013\ttrain-myFeval:0.06551\tvalid_data-myFeval:0.10248\n",
      "[300]\ttrain-rmse:0.19807\tvalid_data-rmse:0.28385\ttrain-myFeval:0.03923\tvalid_data-myFeval:0.08057\n",
      "[400]\ttrain-rmse:0.15958\tvalid_data-rmse:0.26806\ttrain-myFeval:0.02547\tvalid_data-myFeval:0.07186\n",
      "[500]\ttrain-rmse:0.13213\tvalid_data-rmse:0.26110\ttrain-myFeval:0.01746\tvalid_data-myFeval:0.06817\n",
      "[600]\ttrain-rmse:0.11213\tvalid_data-rmse:0.25772\ttrain-myFeval:0.01257\tvalid_data-myFeval:0.06642\n",
      "[700]\ttrain-rmse:0.09612\tvalid_data-rmse:0.25564\ttrain-myFeval:0.00924\tvalid_data-myFeval:0.06535\n",
      "[800]\ttrain-rmse:0.08279\tvalid_data-rmse:0.25477\ttrain-myFeval:0.00685\tvalid_data-myFeval:0.06491\n",
      "[900]\ttrain-rmse:0.07149\tvalid_data-rmse:0.25370\ttrain-myFeval:0.00511\tvalid_data-myFeval:0.06436\n",
      "[1000]\ttrain-rmse:0.06170\tvalid_data-rmse:0.25284\ttrain-myFeval:0.00381\tvalid_data-myFeval:0.06393\n",
      "[1100]\ttrain-rmse:0.05356\tvalid_data-rmse:0.25198\ttrain-myFeval:0.00287\tvalid_data-myFeval:0.06349\n",
      "[1200]\ttrain-rmse:0.04638\tvalid_data-rmse:0.25166\ttrain-myFeval:0.00215\tvalid_data-myFeval:0.06333\n",
      "[1300]\ttrain-rmse:0.04030\tvalid_data-rmse:0.25138\ttrain-myFeval:0.00162\tvalid_data-myFeval:0.06319\n",
      "[1400]\ttrain-rmse:0.03515\tvalid_data-rmse:0.25159\ttrain-myFeval:0.00124\tvalid_data-myFeval:0.06330\n",
      "[1500]\ttrain-rmse:0.03080\tvalid_data-rmse:0.25159\ttrain-myFeval:0.00095\tvalid_data-myFeval:0.06330\n",
      "Stopping. Best iteration:\n",
      "[1356]\ttrain-rmse:0.03727\tvalid_data-rmse:0.25120\ttrain-myFeval:0.00139\tvalid_data-myFeval:0.06310\n",
      "\n",
      "[17:21:48] WARNING: C:/Users/Administrator/workspace/xgboost-win64_release_1.2.0/src/objective/regression_obj.cu:174: reg:linear is now deprecated in favor of reg:squarederror.\n",
      "fold n°5\n",
      "[17:21:48] WARNING: C:/Users/Administrator/workspace/xgboost-win64_release_1.2.0/src/objective/regression_obj.cu:174: reg:linear is now deprecated in favor of reg:squarederror.\n",
      "[17:21:48] WARNING: C:\\Users\\Administrator\\workspace\\xgboost-win64_release_1.2.0\\src\\learner.cc:516: \n",
      "Parameters: { silent } might not be used.\n",
      "\n",
      "  This may not be accurate due to some parameters are only used in language bindings but\n",
      "  passed down to XGBoost core.  Or some parameters are not used but slip through this\n",
      "  verification. Please open an issue if you find above cases.\n",
      "\n",
      "\n",
      "[0]\ttrain-rmse:0.49789\tvalid_data-rmse:0.49818\ttrain-myFeval:0.24790\tvalid_data-myFeval:0.24818\n"
     ]
    },
    {
     "name": "stdout",
     "output_type": "stream",
     "text": [
      "Multiple eval metrics have been passed: 'valid_data-myFeval' will be used for early stopping.\n",
      "\n",
      "Will train until valid_data-myFeval hasn't improved in 200 rounds.\n",
      "[100]\ttrain-rmse:0.34780\tvalid_data-rmse:0.37789\ttrain-myFeval:0.12097\tvalid_data-myFeval:0.14280\n",
      "[200]\ttrain-rmse:0.25495\tvalid_data-rmse:0.31166\ttrain-myFeval:0.06500\tvalid_data-myFeval:0.09713\n",
      "[300]\ttrain-rmse:0.19634\tvalid_data-rmse:0.28070\ttrain-myFeval:0.03855\tvalid_data-myFeval:0.07879\n",
      "[400]\ttrain-rmse:0.15967\tvalid_data-rmse:0.26736\ttrain-myFeval:0.02549\tvalid_data-myFeval:0.07148\n",
      "[500]\ttrain-rmse:0.13243\tvalid_data-rmse:0.26313\ttrain-myFeval:0.01754\tvalid_data-myFeval:0.06924\n",
      "[600]\ttrain-rmse:0.11331\tvalid_data-rmse:0.25896\ttrain-myFeval:0.01284\tvalid_data-myFeval:0.06706\n",
      "[700]\ttrain-rmse:0.09664\tvalid_data-rmse:0.25924\ttrain-myFeval:0.00934\tvalid_data-myFeval:0.06721\n",
      "Stopping. Best iteration:\n",
      "[599]\ttrain-rmse:0.11343\tvalid_data-rmse:0.25892\ttrain-myFeval:0.01287\tvalid_data-myFeval:0.06704\n",
      "\n",
      "[17:21:50] WARNING: C:/Users/Administrator/workspace/xgboost-win64_release_1.2.0/src/objective/regression_obj.cu:174: reg:linear is now deprecated in favor of reg:squarederror.\n",
      "CV score: 0.07923888\n"
     ]
    }
   ],
   "source": [
    "##### xgb\n",
    "\n",
    "xgb_params = {\"booster\":'gbtree','eta': 0.005, 'max_depth': 5, 'subsample': 0.7, \n",
    "              'colsample_bytree': 0.8, 'objective': 'reg:linear', 'eval_metric': 'rmse', 'silent': True, 'nthread': 8}\n",
    "folds = KFold(n_splits=5, shuffle=True, random_state=2018)\n",
    "oof_xgb = np.zeros(len(X_train))\n",
    "predictions_xgb = np.zeros(len(X_test))\n",
    "\n",
    "for fold_, (trn_idx, val_idx) in enumerate(folds.split(X_train, y_train)):\n",
    "    print(\"fold n°{}\".format(fold_+1))\n",
    "    trn_data = xgb.DMatrix(X_train[trn_idx], y_train[trn_idx])\n",
    "    val_data = xgb.DMatrix(X_train[val_idx], y_train[val_idx])\n",
    "    \n",
    "    watchlist = [(trn_data, 'train'), (val_data, 'valid_data')]\n",
    "    clf = xgb.train(dtrain=trn_data, num_boost_round=20000, evals=watchlist, early_stopping_rounds=200, verbose_eval=100, params=xgb_params,feval = myFeval)\n",
    "    oof_xgb[val_idx] = clf.predict(xgb.DMatrix(X_train[val_idx]), ntree_limit=clf.best_ntree_limit)\n",
    "    predictions_xgb += clf.predict(xgb.DMatrix(X_test), ntree_limit=clf.best_ntree_limit) / folds.n_splits\n",
    "    \n",
    "print(\"CV score: {:<8.8f}\".format(mean_squared_error(oof_xgb, y_train_)))"
   ]
  },
  {
   "cell_type": "markdown",
   "metadata": {},
   "source": [
    "## 4.5lgb"
   ]
  },
  {
   "cell_type": "code",
   "execution_count": 12,
   "metadata": {},
   "outputs": [
    {
     "name": "stdout",
     "output_type": "stream",
     "text": [
      "fold n°1\n",
      "Training until validation scores don't improve for 100 rounds\n",
      "[200]\ttraining's l2: 0.0675672\tvalid_1's l2: 0.0949555\n",
      "[400]\ttraining's l2: 0.0507131\tvalid_1's l2: 0.0875135\n",
      "Early stopping, best iteration is:\n",
      "[400]\ttraining's l2: 0.0507131\tvalid_1's l2: 0.0875135\n",
      "fold n°2\n",
      "[LightGBM] [Warning] min_data_in_leaf is set=20, min_child_samples=30 will be ignored. Current value: min_data_in_leaf=20\n",
      "Training until validation scores don't improve for 100 rounds\n",
      "[200]\ttraining's l2: 0.0655695\tvalid_1's l2: 0.108912\n",
      "Early stopping, best iteration is:\n",
      "[251]\ttraining's l2: 0.0580633\tvalid_1's l2: 0.106434\n",
      "fold n°3\n",
      "[LightGBM] [Warning] min_data_in_leaf is set=20, min_child_samples=30 will be ignored. Current value: min_data_in_leaf=20\n",
      "Training until validation scores don't improve for 100 rounds\n",
      "[200]\ttraining's l2: 0.0662394\tvalid_1's l2: 0.0891842\n",
      "[400]\ttraining's l2: 0.0474784\tvalid_1's l2: 0.0863749\n",
      "Early stopping, best iteration is:\n",
      "[326]\ttraining's l2: 0.0527244\tvalid_1's l2: 0.0845736\n",
      "fold n°4\n",
      "[LightGBM] [Warning] min_data_in_leaf is set=20, min_child_samples=30 will be ignored. Current value: min_data_in_leaf=20\n",
      "Training until validation scores don't improve for 100 rounds\n",
      "[200]\ttraining's l2: 0.0708227\tvalid_1's l2: 0.0929258\n",
      "[400]\ttraining's l2: 0.0540186\tvalid_1's l2: 0.0843286\n",
      "Early stopping, best iteration is:\n",
      "[493]\ttraining's l2: 0.050429\tvalid_1's l2: 0.0831778\n",
      "fold n°5\n",
      "[LightGBM] [Warning] min_data_in_leaf is set=20, min_child_samples=30 will be ignored. Current value: min_data_in_leaf=20\n",
      "Training until validation scores don't improve for 100 rounds\n",
      "[200]\ttraining's l2: 0.071505\tvalid_1's l2: 0.0966227\n",
      "[400]\ttraining's l2: 0.0547213\tvalid_1's l2: 0.0860185\n",
      "Early stopping, best iteration is:\n",
      "[481]\ttraining's l2: 0.0513433\tvalid_1's l2: 0.0850461\n",
      "CV score: 0.08944939\n"
     ]
    }
   ],
   "source": [
    "##### lgb\n",
    "\n",
    "param = {'boosting_type': 'gbdt',\n",
    "         'num_leaves': 20,\n",
    "         'min_data_in_leaf': 20, \n",
    "         'objective':'regression',\n",
    "         'max_depth':6,\n",
    "         'learning_rate': 0.01,\n",
    "         \"min_child_samples\": 30,\n",
    "         \n",
    "         \"feature_fraction\": 0.8,\n",
    "         \"bagging_freq\": 1,\n",
    "         \"bagging_fraction\": 0.8 ,\n",
    "         \"bagging_seed\": 11,\n",
    "         \"metric\": 'mse',\n",
    "         \"lambda_l1\": 0.1,\n",
    "         \"verbosity\": -1}\n",
    "folds = KFold(n_splits=5, shuffle=True, random_state=2018)\n",
    "oof_lgb = np.zeros(len(X_train_))\n",
    "predictions_lgb = np.zeros(len(X_test_))\n",
    "\n",
    "for fold_, (trn_idx, val_idx) in enumerate(folds.split(X_train, y_train)):\n",
    "    print(\"fold n°{}\".format(fold_+1))\n",
    "   # print(trn_idx)\n",
    "   # print(\".............x_train.........\")\n",
    "   # print(X_train[trn_idx])\n",
    "  #  print(\".............y_train.........\")\n",
    "  #  print(y_train[trn_idx])\n",
    "    # 新加的\n",
    "    y_train=y_train.ravel() # Wrong type(ndarray) for label.It should be list, numpy 1-D array or pandas Series\n",
    "    trn_data = lgb.Dataset(X_train[trn_idx], y_train[trn_idx])\n",
    "    \n",
    "    val_data = lgb.Dataset(X_train[val_idx], y_train[val_idx])\n",
    "\n",
    "    num_round = 10000\n",
    "    clf = lgb.train(param, trn_data, num_round, valid_sets = [trn_data, val_data], verbose_eval=200, early_stopping_rounds = 100)\n",
    "    oof_lgb[val_idx] = clf.predict(X_train[val_idx], num_iteration=clf.best_iteration)\n",
    "    \n",
    "    predictions_lgb += clf.predict(X_test, num_iteration=clf.best_iteration) / folds.n_splits\n",
    "\n",
    "print(\"CV score: {:<8.8f}\".format(mean_squared_error(oof_lgb, y_train_)))"
   ]
  },
  {
   "cell_type": "markdown",
   "metadata": {},
   "source": [
    "## 4.6ctb"
   ]
  },
  {
   "cell_type": "code",
   "execution_count": 13,
   "metadata": {},
   "outputs": [
    {
     "name": "stdout",
     "output_type": "stream",
     "text": [
      "fold n°0\n",
      "0:\tlearn: 0.4843726\ttest: 0.4869667\tbest: 0.4869667 (0)\ttotal: 55.3ms\tremaining: 1h 32m 7s\n",
      "100:\tlearn: 0.1877214\ttest: 0.2189398\tbest: 0.2189398 (100)\ttotal: 196ms\tremaining: 3m 13s\n",
      "Stopped by overfitting detector  (50 iterations wait)\n",
      "\n",
      "bestTest = 0.2181682768\n",
      "bestIteration = 101\n",
      "\n",
      "Shrink model to first 102 iterations.\n",
      "fold n°1\n",
      "0:\tlearn: 0.4857866\ttest: 0.4862094\tbest: 0.4862094 (0)\ttotal: 2.48ms\tremaining: 4m 8s\n",
      "100:\tlearn: 0.1754912\ttest: 0.2962325\tbest: 0.2948263 (94)\ttotal: 121ms\tremaining: 2m\n",
      "Stopped by overfitting detector  (50 iterations wait)\n",
      "\n",
      "bestTest = 0.2948263133\n",
      "bestIteration = 94\n",
      "\n",
      "Shrink model to first 95 iterations.\n",
      "fold n°2\n",
      "0:\tlearn: 0.4823434\ttest: 0.5031143\tbest: 0.5031143 (0)\ttotal: 2.43ms\tremaining: 4m 3s\n",
      "100:\tlearn: 0.1412649\ttest: 0.3459489\tbest: 0.3440296 (69)\ttotal: 149ms\tremaining: 2m 27s\n",
      "Stopped by overfitting detector  (50 iterations wait)\n",
      "\n",
      "bestTest = 0.3440296317\n",
      "bestIteration = 69\n",
      "\n",
      "Shrink model to first 70 iterations.\n",
      "fold n°3\n",
      "0:\tlearn: 0.4826076\ttest: 0.4798976\tbest: 0.4798976 (0)\ttotal: 1.59ms\tremaining: 2m 39s\n",
      "100:\tlearn: 0.1707820\ttest: 0.2748402\tbest: 0.2748402 (100)\ttotal: 163ms\tremaining: 2m 41s\n",
      "Stopped by overfitting detector  (50 iterations wait)\n",
      "\n",
      "bestTest = 0.2705358529\n",
      "bestIteration = 145\n",
      "\n",
      "Shrink model to first 146 iterations.\n",
      "fold n°4\n",
      "0:\tlearn: 0.4853993\ttest: 0.4804217\tbest: 0.4804217 (0)\ttotal: 1.93ms\tremaining: 3m 12s\n",
      "100:\tlearn: 0.1888376\ttest: 0.1986293\tbest: 0.1966366 (91)\ttotal: 116ms\tremaining: 1m 54s\n",
      "200:\tlearn: 0.1155839\ttest: 0.1881633\tbest: 0.1869698 (174)\ttotal: 268ms\tremaining: 2m 13s\n",
      "Stopped by overfitting detector  (50 iterations wait)\n",
      "\n",
      "bestTest = 0.1869698446\n",
      "bestIteration = 174\n",
      "\n",
      "Shrink model to first 175 iterations.\n",
      "CV score: 0.07241273\n"
     ]
    }
   ],
   "source": [
    "from catboost import Pool, CatBoostRegressor\n",
    "# cat_features=[0,2,3,10,11,13,15,16,17,18,19]\n",
    "from sklearn.model_selection import train_test_split\n",
    "\n",
    "\n",
    "#X_train_s, X_test_s, y_train_s, y_test_s = train_test_split(X_train_, y_train_, test_size=0.3, random_state=2019)\n",
    "# train_pool = Pool(X_train_s, y_train_s,cat_features=[0,2,3,10,11,13,15,16,17,18,19])\n",
    "# val_pool = Pool(X_test_s, y_test_s,cat_features=[0,2,3,10,11,13,15,16,17,18,19])\n",
    "# test_pool = Pool(X_test_ ,cat_features=[0,2,3,10,11,13,15,16,17,18,19]) \n",
    "\n",
    "\n",
    "kfolder = KFold(n_splits=5, shuffle=True, random_state=2019)\n",
    "oof_cb = np.zeros(len(X_train))\n",
    "predictions_cb = np.zeros(len(X_test))\n",
    "kfold = kfolder.split(X_train, y_train)\n",
    "fold_=0\n",
    "#X_train_s, X_test_s, y_train_s, y_test_s = train_test_split(X_train, y_train, test_size=0.3, random_state=2019)\n",
    "for train_index, vali_index in kfold:\n",
    "    print(\"fold n°{}\".format(fold_))\n",
    "    fold_=fold_+1\n",
    "    k_x_train = X_train[train_index]\n",
    "    k_y_train = y_train[train_index]\n",
    "    k_x_vali = X_train[vali_index]\n",
    "    k_y_vali = y_train[vali_index]\n",
    "    cb_params = {\n",
    "         'n_estimators': 100000,\n",
    "         'loss_function': 'RMSE',\n",
    "         'eval_metric':'RMSE',\n",
    "         'learning_rate': 0.05,\n",
    "         'depth': 5,\n",
    "         'use_best_model': True,\n",
    "         'subsample': 0.6,\n",
    "         'bootstrap_type': 'Bernoulli',\n",
    "         'reg_lambda': 3\n",
    "    }\n",
    "    model_cb = CatBoostRegressor(**cb_params)\n",
    "    #train the model\n",
    "    model_cb.fit(k_x_train, k_y_train,eval_set=[(k_x_vali, k_y_vali)],verbose=100,early_stopping_rounds=50)\n",
    "    oof_cb[vali_index] = model_cb.predict(k_x_vali, ntree_end=model_cb.best_iteration_)\n",
    "    predictions_cb += model_cb.predict(X_test, ntree_end=model_cb.best_iteration_) / kfolder.n_splits\n",
    "print(\"CV score: {:<8.8f}\".format(mean_squared_error(oof_cb, y_train)))"
   ]
  },
  {
   "cell_type": "markdown",
   "metadata": {},
   "source": [
    "## 4.7模型融合"
   ]
  },
  {
   "cell_type": "code",
   "execution_count": 14,
   "metadata": {},
   "outputs": [
    {
     "name": "stdout",
     "output_type": "stream",
     "text": [
      "fold 0\n",
      "fold 1\n",
      "fold 2\n",
      "fold 3\n",
      "fold 4\n",
      "fold 5\n",
      "fold 6\n",
      "fold 7\n",
      "fold 8\n",
      "fold 9\n",
      "CV score: 0.07329928\n"
     ]
    }
   ],
   "source": [
    "from sklearn import linear_model\n",
    "# 将lgb和xgb和ctb的结果进行stacking\n",
    "train_stack = np.vstack([oof_lgb,oof_xgb,oof_cb]).transpose()\n",
    "test_stack = np.vstack([predictions_lgb, predictions_xgb,predictions_cb]).transpose()\n",
    "\n",
    "\n",
    "folds_stack = RepeatedKFold(n_splits=5, n_repeats=2, random_state=2018)\n",
    "oof_stack = np.zeros(train_stack.shape[0])\n",
    "predictions = np.zeros(test_stack.shape[0])\n",
    "\n",
    "for fold_, (trn_idx, val_idx) in enumerate(folds_stack.split(train_stack,y_train)):\n",
    "    print(\"fold {}\".format(fold_))\n",
    "    trn_data, trn_y = train_stack[trn_idx], y_train[trn_idx]\n",
    "    val_data, val_y = train_stack[val_idx], y_train[val_idx]\n",
    "    \n",
    "    clf_3 = linear_model.BayesianRidge()\n",
    "    #clf_3 =linear_model.Ridge()\n",
    "    clf_3.fit(trn_data, trn_y)\n",
    "    \n",
    "    oof_stack[val_idx] = clf_3.predict(val_data)\n",
    "    predictions += clf_3.predict(test_stack) / 10\n",
    "    \n",
    "print(\"CV score: {:<8.8f}\".format(mean_squared_error(oof_stack, y_train_)))"
   ]
  },
  {
   "cell_type": "markdown",
   "metadata": {},
   "source": [
    "# 五、预测结果"
   ]
  },
  {
   "cell_type": "code",
   "execution_count": 18,
   "metadata": {},
   "outputs": [
    {
     "name": "stdout",
     "output_type": "stream",
     "text": [
      "[0.12734082272889655, 0.03887187117817929, -0.0576205274910133, 0.03879736211464524, -0.04360689206360637, 0.8222233306869584, 0.9515586588595087, 1.000891209560275, -0.07381754848832098, 0.9526447197757097, 0.40647369448158766, 1.0068931435056276, -0.0372806395365506, 0.9120110962512827, 0.06245978770049241, 0.011371135314740434, 1.0107981605962724, 0.9722686475256033, -0.028137830672559223, 1.0002590007189391, 0.6665636863682503, 0.9930730491576473, -0.052245334760276735, -0.04337148973310682, 1.0064121522248062, 1.0043702142671547, 0.9492914960697486, -0.017612472164497753, 0.9059627109670109, 0.8914232923437804, -0.04627023214273087, 0.24216359248430722, 0.8807670793209079, 0.565855542580656, -0.04437965732987747, 0.922832755976519, 0.45139915150870324, 0.8281685910341943, -0.022992957724800225, 0.04964267959196532, 0.48323071868449147, 0.7976465621455322, 0.038878435723425184, 0.5353419384672655, -0.038552744990501334, -0.03742550204062106, 0.0602928903345251, 0.9309745932664336, 0.24572374369300126, 0.05134956254500128, 0.007471986920208845, 0.04290962875765451, 1.0098489191488076, -0.003690197555506568, 0.15050142306765385, 1.0139561614405446, -0.02150317929145293, 0.7974234876903433, 0.9109020540761347, 0.05318738721237222, -0.031041185640761974, 0.9475850501864314, 0.9606046106765502, 0.7811067616155576, 0.19969510241237148, -0.06568309089079957, 1.0269186678553477, 0.9327472798837044, -0.07205809960690117, 0.07011762150373568, 0.21750979651859775, 1.0284320452574498, 0.00694403568656713, -0.06782611908897908, 0.9210627525054594]\n"
     ]
    },
    {
     "ename": "ValueError",
     "evalue": "Length of values does not match length of index",
     "output_type": "error",
     "traceback": [
      "\u001b[1;31m---------------------------------------------------------------------------\u001b[0m",
      "\u001b[1;31mValueError\u001b[0m                                Traceback (most recent call last)",
      "\u001b[1;32m<ipython-input-18-4584aadee1de>\u001b[0m in \u001b[0;36m<module>\u001b[1;34m\u001b[0m\n\u001b[0;32m      1\u001b[0m \u001b[0mresult\u001b[0m\u001b[1;33m=\u001b[0m\u001b[0mlist\u001b[0m\u001b[1;33m(\u001b[0m\u001b[0mpredictions\u001b[0m\u001b[1;33m)\u001b[0m\u001b[1;33m\u001b[0m\u001b[1;33m\u001b[0m\u001b[0m\n\u001b[0;32m      2\u001b[0m \u001b[0mprint\u001b[0m\u001b[1;33m(\u001b[0m\u001b[0mresult\u001b[0m\u001b[1;33m)\u001b[0m\u001b[1;33m\u001b[0m\u001b[1;33m\u001b[0m\u001b[0m\n\u001b[1;32m----> 3\u001b[1;33m \u001b[0mdata\u001b[0m\u001b[1;33m[\u001b[0m\u001b[1;34m\"pedict\"\u001b[0m\u001b[1;33m]\u001b[0m\u001b[1;33m=\u001b[0m\u001b[0mresult\u001b[0m\u001b[1;33m\u001b[0m\u001b[1;33m\u001b[0m\u001b[0m\n\u001b[0m\u001b[0;32m      4\u001b[0m \u001b[0mdata\u001b[0m\u001b[1;33m.\u001b[0m\u001b[0mto_csv\u001b[0m\u001b[1;33m(\u001b[0m\u001b[1;34m\"predict_1725.csv\"\u001b[0m\u001b[1;33m,\u001b[0m \u001b[0mindex\u001b[0m\u001b[1;33m=\u001b[0m\u001b[1;32mFalse\u001b[0m\u001b[1;33m)\u001b[0m\u001b[1;33m\u001b[0m\u001b[1;33m\u001b[0m\u001b[0m\n",
      "\u001b[1;32mD:\\Download\\Anaconda3\\lib\\site-packages\\pandas\\core\\frame.py\u001b[0m in \u001b[0;36m__setitem__\u001b[1;34m(self, key, value)\u001b[0m\n\u001b[0;32m   2936\u001b[0m         \u001b[1;32melse\u001b[0m\u001b[1;33m:\u001b[0m\u001b[1;33m\u001b[0m\u001b[1;33m\u001b[0m\u001b[0m\n\u001b[0;32m   2937\u001b[0m             \u001b[1;31m# set column\u001b[0m\u001b[1;33m\u001b[0m\u001b[1;33m\u001b[0m\u001b[1;33m\u001b[0m\u001b[0m\n\u001b[1;32m-> 2938\u001b[1;33m             \u001b[0mself\u001b[0m\u001b[1;33m.\u001b[0m\u001b[0m_set_item\u001b[0m\u001b[1;33m(\u001b[0m\u001b[0mkey\u001b[0m\u001b[1;33m,\u001b[0m \u001b[0mvalue\u001b[0m\u001b[1;33m)\u001b[0m\u001b[1;33m\u001b[0m\u001b[1;33m\u001b[0m\u001b[0m\n\u001b[0m\u001b[0;32m   2939\u001b[0m \u001b[1;33m\u001b[0m\u001b[0m\n\u001b[0;32m   2940\u001b[0m     \u001b[1;32mdef\u001b[0m \u001b[0m_setitem_slice\u001b[0m\u001b[1;33m(\u001b[0m\u001b[0mself\u001b[0m\u001b[1;33m,\u001b[0m \u001b[0mkey\u001b[0m\u001b[1;33m,\u001b[0m \u001b[0mvalue\u001b[0m\u001b[1;33m)\u001b[0m\u001b[1;33m:\u001b[0m\u001b[1;33m\u001b[0m\u001b[1;33m\u001b[0m\u001b[0m\n",
      "\u001b[1;32mD:\\Download\\Anaconda3\\lib\\site-packages\\pandas\\core\\frame.py\u001b[0m in \u001b[0;36m_set_item\u001b[1;34m(self, key, value)\u001b[0m\n\u001b[0;32m   2998\u001b[0m \u001b[1;33m\u001b[0m\u001b[0m\n\u001b[0;32m   2999\u001b[0m         \u001b[0mself\u001b[0m\u001b[1;33m.\u001b[0m\u001b[0m_ensure_valid_index\u001b[0m\u001b[1;33m(\u001b[0m\u001b[0mvalue\u001b[0m\u001b[1;33m)\u001b[0m\u001b[1;33m\u001b[0m\u001b[1;33m\u001b[0m\u001b[0m\n\u001b[1;32m-> 3000\u001b[1;33m         \u001b[0mvalue\u001b[0m \u001b[1;33m=\u001b[0m \u001b[0mself\u001b[0m\u001b[1;33m.\u001b[0m\u001b[0m_sanitize_column\u001b[0m\u001b[1;33m(\u001b[0m\u001b[0mkey\u001b[0m\u001b[1;33m,\u001b[0m \u001b[0mvalue\u001b[0m\u001b[1;33m)\u001b[0m\u001b[1;33m\u001b[0m\u001b[1;33m\u001b[0m\u001b[0m\n\u001b[0m\u001b[0;32m   3001\u001b[0m         \u001b[0mNDFrame\u001b[0m\u001b[1;33m.\u001b[0m\u001b[0m_set_item\u001b[0m\u001b[1;33m(\u001b[0m\u001b[0mself\u001b[0m\u001b[1;33m,\u001b[0m \u001b[0mkey\u001b[0m\u001b[1;33m,\u001b[0m \u001b[0mvalue\u001b[0m\u001b[1;33m)\u001b[0m\u001b[1;33m\u001b[0m\u001b[1;33m\u001b[0m\u001b[0m\n\u001b[0;32m   3002\u001b[0m \u001b[1;33m\u001b[0m\u001b[0m\n",
      "\u001b[1;32mD:\\Download\\Anaconda3\\lib\\site-packages\\pandas\\core\\frame.py\u001b[0m in \u001b[0;36m_sanitize_column\u001b[1;34m(self, key, value, broadcast)\u001b[0m\n\u001b[0;32m   3634\u001b[0m \u001b[1;33m\u001b[0m\u001b[0m\n\u001b[0;32m   3635\u001b[0m             \u001b[1;31m# turn me into an ndarray\u001b[0m\u001b[1;33m\u001b[0m\u001b[1;33m\u001b[0m\u001b[1;33m\u001b[0m\u001b[0m\n\u001b[1;32m-> 3636\u001b[1;33m             \u001b[0mvalue\u001b[0m \u001b[1;33m=\u001b[0m \u001b[0msanitize_index\u001b[0m\u001b[1;33m(\u001b[0m\u001b[0mvalue\u001b[0m\u001b[1;33m,\u001b[0m \u001b[0mself\u001b[0m\u001b[1;33m.\u001b[0m\u001b[0mindex\u001b[0m\u001b[1;33m,\u001b[0m \u001b[0mcopy\u001b[0m\u001b[1;33m=\u001b[0m\u001b[1;32mFalse\u001b[0m\u001b[1;33m)\u001b[0m\u001b[1;33m\u001b[0m\u001b[1;33m\u001b[0m\u001b[0m\n\u001b[0m\u001b[0;32m   3637\u001b[0m             \u001b[1;32mif\u001b[0m \u001b[1;32mnot\u001b[0m \u001b[0misinstance\u001b[0m\u001b[1;33m(\u001b[0m\u001b[0mvalue\u001b[0m\u001b[1;33m,\u001b[0m \u001b[1;33m(\u001b[0m\u001b[0mnp\u001b[0m\u001b[1;33m.\u001b[0m\u001b[0mndarray\u001b[0m\u001b[1;33m,\u001b[0m \u001b[0mIndex\u001b[0m\u001b[1;33m)\u001b[0m\u001b[1;33m)\u001b[0m\u001b[1;33m:\u001b[0m\u001b[1;33m\u001b[0m\u001b[1;33m\u001b[0m\u001b[0m\n\u001b[0;32m   3638\u001b[0m                 \u001b[1;32mif\u001b[0m \u001b[0misinstance\u001b[0m\u001b[1;33m(\u001b[0m\u001b[0mvalue\u001b[0m\u001b[1;33m,\u001b[0m \u001b[0mlist\u001b[0m\u001b[1;33m)\u001b[0m \u001b[1;32mand\u001b[0m \u001b[0mlen\u001b[0m\u001b[1;33m(\u001b[0m\u001b[0mvalue\u001b[0m\u001b[1;33m)\u001b[0m \u001b[1;33m>\u001b[0m \u001b[1;36m0\u001b[0m\u001b[1;33m:\u001b[0m\u001b[1;33m\u001b[0m\u001b[1;33m\u001b[0m\u001b[0m\n",
      "\u001b[1;32mD:\\Download\\Anaconda3\\lib\\site-packages\\pandas\\core\\internals\\construction.py\u001b[0m in \u001b[0;36msanitize_index\u001b[1;34m(data, index, copy)\u001b[0m\n\u001b[0;32m    609\u001b[0m \u001b[1;33m\u001b[0m\u001b[0m\n\u001b[0;32m    610\u001b[0m     \u001b[1;32mif\u001b[0m \u001b[0mlen\u001b[0m\u001b[1;33m(\u001b[0m\u001b[0mdata\u001b[0m\u001b[1;33m)\u001b[0m \u001b[1;33m!=\u001b[0m \u001b[0mlen\u001b[0m\u001b[1;33m(\u001b[0m\u001b[0mindex\u001b[0m\u001b[1;33m)\u001b[0m\u001b[1;33m:\u001b[0m\u001b[1;33m\u001b[0m\u001b[1;33m\u001b[0m\u001b[0m\n\u001b[1;32m--> 611\u001b[1;33m         \u001b[1;32mraise\u001b[0m \u001b[0mValueError\u001b[0m\u001b[1;33m(\u001b[0m\u001b[1;34m\"Length of values does not match length of index\"\u001b[0m\u001b[1;33m)\u001b[0m\u001b[1;33m\u001b[0m\u001b[1;33m\u001b[0m\u001b[0m\n\u001b[0m\u001b[0;32m    612\u001b[0m \u001b[1;33m\u001b[0m\u001b[0m\n\u001b[0;32m    613\u001b[0m     \u001b[1;32mif\u001b[0m \u001b[0misinstance\u001b[0m\u001b[1;33m(\u001b[0m\u001b[0mdata\u001b[0m\u001b[1;33m,\u001b[0m \u001b[0mABCIndexClass\u001b[0m\u001b[1;33m)\u001b[0m \u001b[1;32mand\u001b[0m \u001b[1;32mnot\u001b[0m \u001b[0mcopy\u001b[0m\u001b[1;33m:\u001b[0m\u001b[1;33m\u001b[0m\u001b[1;33m\u001b[0m\u001b[0m\n",
      "\u001b[1;31mValueError\u001b[0m: Length of values does not match length of index"
     ]
    }
   ],
   "source": [
    "result=list(predictions)\n",
    "print(result)\n",
    "predict = pd.DataFrame(data=result)\n",
    "predict.to_csv(\"predict_1725.csv\", index=False)"
   ]
  },
  {
   "cell_type": "code",
   "execution_count": null,
   "metadata": {},
   "outputs": [],
   "source": []
  },
  {
   "cell_type": "code",
   "execution_count": 42,
   "metadata": {},
   "outputs": [
    {
     "data": {
      "text/plain": [
       "['survey_type',\n",
       " 'province',\n",
       " 'city',\n",
       " 'county',\n",
       " 'gender',\n",
       " 'birth',\n",
       " 'nationality',\n",
       " 'religion',\n",
       " 'religion_freq',\n",
       " 'edu',\n",
       " 'edu_status',\n",
       " 'edu_yr',\n",
       " 'income',\n",
       " 'political',\n",
       " 'join_party',\n",
       " 'floor_area',\n",
       " 'property',\n",
       " 'height_cm',\n",
       " 'weight_jin',\n",
       " 'health',\n",
       " 'health_problem',\n",
       " 'depression',\n",
       " 'hukou',\n",
       " 'hukou_loc',\n",
       " 'media_1',\n",
       " 'media_2',\n",
       " 'media_3',\n",
       " 'media_4',\n",
       " 'media_5',\n",
       " 'media_6',\n",
       " 'leisure_1',\n",
       " 'leisure_2',\n",
       " 'leisure_3',\n",
       " 'leisure_4',\n",
       " 'leisure_5',\n",
       " 'leisure_6',\n",
       " 'leisure_7',\n",
       " 'leisure_8',\n",
       " 'leisure_9',\n",
       " 'leisure_10',\n",
       " 'leisure_11',\n",
       " 'leisure_12',\n",
       " 'socialize',\n",
       " 'relax',\n",
       " 'learn',\n",
       " 'social_neighbor',\n",
       " 'social_friend',\n",
       " 'socia_outing',\n",
       " 'equity',\n",
       " 'class',\n",
       " 'class_10_before',\n",
       " 'class_10_after',\n",
       " 'class_14',\n",
       " 'work_exper',\n",
       " 'work_status',\n",
       " 'work_yr',\n",
       " 'work_type',\n",
       " 'work_manage',\n",
       " 'insur_1',\n",
       " 'insur_2',\n",
       " 'insur_3',\n",
       " 'insur_4',\n",
       " 'family_income',\n",
       " 'family_m',\n",
       " 'family_status',\n",
       " 'house',\n",
       " 'car',\n",
       " 'invest',\n",
       " 'son',\n",
       " 'daughter',\n",
       " 'minor_child',\n",
       " 'marital',\n",
       " 'marital_1st',\n",
       " 's_birth',\n",
       " 'marital_now',\n",
       " 's_edu',\n",
       " 's_political',\n",
       " 's_hukou',\n",
       " 's_income',\n",
       " 's_work_exper',\n",
       " 's_work_status',\n",
       " 's_work_type',\n",
       " 'f_birth',\n",
       " 'f_edu',\n",
       " 'f_political',\n",
       " 'f_work_14',\n",
       " 'm_birth',\n",
       " 'm_edu',\n",
       " 'm_political',\n",
       " 'm_work_14',\n",
       " 'status_peer',\n",
       " 'status_3_before',\n",
       " 'view',\n",
       " 'inc_ability',\n",
       " 'inc_exp',\n",
       " 'trust_1',\n",
       " 'trust_2',\n",
       " 'trust_3',\n",
       " 'trust_4',\n",
       " 'trust_5',\n",
       " 'trust_6',\n",
       " 'trust_7',\n",
       " 'trust_8',\n",
       " 'trust_9',\n",
       " 'trust_10',\n",
       " 'trust_11',\n",
       " 'trust_12',\n",
       " 'trust_13',\n",
       " 'neighbor_familiarity',\n",
       " 'public_service_1',\n",
       " 'public_service_2',\n",
       " 'public_service_3',\n",
       " 'public_service_4',\n",
       " 'public_service_5',\n",
       " 'public_service_6',\n",
       " 'public_service_7',\n",
       " 'public_service_8',\n",
       " 'public_service_9',\n",
       " 'weekday',\n",
       " 'year',\n",
       " 'quarter',\n",
       " 'hour',\n",
       " 'month',\n",
       " 'hour_cut',\n",
       " 'survey_age']"
      ]
     },
     "execution_count": 42,
     "metadata": {},
     "output_type": "execute_result"
    }
   ],
   "source": [
    "data=data.drop([\"id\"], axis=1)\n",
    "X_train_ = data[:train.shape[0]] # 训练集\n",
    "X_test_  = data[train.shape[0]:] # 测试集\n",
    "target_column = 'happiness'\n",
    "feature_columns=list(X_test_.columns) \n",
    "feature_columns"
   ]
  }
 ],
 "metadata": {
  "kernelspec": {
   "display_name": "Python 3",
   "language": "python",
   "name": "python3"
  },
  "language_info": {
   "codemirror_mode": {
    "name": "ipython",
    "version": 3
   },
   "file_extension": ".py",
   "mimetype": "text/x-python",
   "name": "python",
   "nbconvert_exporter": "python",
   "pygments_lexer": "ipython3",
   "version": "3.8.3"
  }
 },
 "nbformat": 4,
 "nbformat_minor": 4
}
